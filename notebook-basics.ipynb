{
 "cells": [
  {
   "cell_type": "markdown",
   "id": "49a1c1fb-3ac3-41c9-b30e-cd45a37efea4",
   "metadata": {},
   "source": [
    "### Cell and Kernel\n",
    "**Cell** - a notebook is a collection of cells and any content always goes inside a cell\n",
    "\n",
    "**Kernel** - runtime environment on which the notebook runs (not related to the OS kernel)"
   ]
  },
  {
   "cell_type": "code",
   "execution_count": 6,
   "id": "caa827c8-73c9-4d7b-9687-24db50bc8ff0",
   "metadata": {},
   "outputs": [],
   "source": [
    "greeting = 'Hellow!'"
   ]
  },
  {
   "cell_type": "markdown",
   "id": "376da498-7203-4a28-b844-fedf1930a844",
   "metadata": {},
   "source": [
    "No need to call `print()` or `plt.plot()` to output stuff"
   ]
  },
  {
   "cell_type": "code",
   "execution_count": 7,
   "id": "7dc6d86a-dfed-4907-99c3-d83d2a9fec2b",
   "metadata": {
    "scrolled": true
   },
   "outputs": [
    {
     "data": {
      "text/plain": [
       "'Hellow!'"
      ]
     },
     "execution_count": 7,
     "metadata": {},
     "output_type": "execute_result"
    }
   ],
   "source": [
    "greeting"
   ]
  },
  {
   "cell_type": "markdown",
   "id": "b7c25d93-6d19-4b61-993f-24e20bd5cd17",
   "metadata": {},
   "source": [
    "Order of execution of cells may not be sequential, it depends upon the user, tracked by `[]:` on the left side of cells"
   ]
  },
  {
   "cell_type": "code",
   "execution_count": 8,
   "id": "6072b6ee-bc77-46ce-bdfd-6e8951e897b5",
   "metadata": {},
   "outputs": [],
   "source": [
    "greeting = 'Meow!'"
   ]
  },
  {
   "cell_type": "markdown",
   "id": "7641f69f-4054-4d1b-9cce-01cb7f353daf",
   "metadata": {},
   "source": [
    "### Magic Commands\n",
    "**Line Magic** (`%`) - takes a line as the argument\n",
    "\n",
    "**Cell Magic** (`%%`) - takes the entire cell as the argument, allows running JavaScript, Shell scripts, etc within a Notebook"
   ]
  },
  {
   "cell_type": "raw",
   "id": "3c44a93f-9f9e-4537-83d2-d9297b3e4d1f",
   "metadata": {},
   "source": [
    "%lsmagic"
   ]
  },
  {
   "cell_type": "code",
   "execution_count": 13,
   "id": "2a8575b9-1a51-4c7d-a691-c86e54a6ce4e",
   "metadata": {},
   "outputs": [
    {
     "data": {
      "text/plain": [
       "'C:\\\\Users\\\\Abhishek\\\\Documents\\\\GitHub\\\\data-visualization-python'"
      ]
     },
     "execution_count": 13,
     "metadata": {},
     "output_type": "execute_result"
    }
   ],
   "source": [
    "%pwd"
   ]
  },
  {
   "cell_type": "code",
   "execution_count": 9,
   "id": "ca236222-dadd-4242-a128-03c666349bcd",
   "metadata": {
    "scrolled": true
   },
   "outputs": [
    {
     "data": {
      "application/javascript": [
       "alert('Hola!')\n"
      ],
      "text/plain": [
       "<IPython.core.display.Javascript object>"
      ]
     },
     "metadata": {},
     "output_type": "display_data"
    }
   ],
   "source": [
    "%%javascript\n",
    "alert('Hola!')"
   ]
  },
  {
   "cell_type": "markdown",
   "id": "35391645-7cc5-4811-8ee5-f5b76a2e296d",
   "metadata": {},
   "source": [
    "### Some Useful Keyboard Shorcuts\n",
    "- Esc (command mode)\n",
    "- Enter (edit mode)\n",
    "- A (insert cell above)\n",
    "- B (insert cell below)\n",
    "- DD (delete current cell)\n",
    "- C (copy cell)\n",
    "- V (paste cell)\n",
    "- Shift + Enter (run current cell)\n",
    "- M (current cell content is Markdown)\n",
    "- Y (current cell content is Code)\n",
    "- TAB (completion helper)"
   ]
  }
 ],
 "metadata": {
  "kernelspec": {
   "display_name": "Python 3 (ipykernel)",
   "language": "python",
   "name": "python3"
  },
  "language_info": {
   "codemirror_mode": {
    "name": "ipython",
    "version": 3
   },
   "file_extension": ".py",
   "mimetype": "text/x-python",
   "name": "python",
   "nbconvert_exporter": "python",
   "pygments_lexer": "ipython3",
   "version": "3.12.1"
  }
 },
 "nbformat": 4,
 "nbformat_minor": 5
}
